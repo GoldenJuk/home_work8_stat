{
 "cells": [
  {
   "cell_type": "markdown",
   "id": "86235697",
   "metadata": {},
   "source": [
    "**Задача 1**\n",
    "\n",
    "Даны значения величины заработной платы заемщиков банка (zp) и значения их\n",
    "поведенческого кредитного скоринга (ks):\n",
    "zp = [35, 45, 190, 200, 40, 70, 54, 150, 120, 110],\n",
    "ks = [401, 574, 874, 919, 459, 739, 653, 902, 746, 832].\n",
    "Найдите ковариацию этих двух величин с помощью элементарных действий, а затем с\n",
    "помощью функции cov из numpy\n",
    "Полученные значения должны быть равны.\n",
    "Найдите коэффициент корреляции Пирсона с помощью ковариации и\n",
    "среднеквадратичных отклонений двух признаков,\n",
    "а затем с использованием функций из библиотек numpy и pandas."
   ]
  },
  {
   "cell_type": "code",
   "execution_count": 25,
   "id": "064aded3",
   "metadata": {},
   "outputs": [
    {
     "name": "stdout",
     "output_type": "stream",
     "text": [
      "Ковариация: 9157.84\n"
     ]
    }
   ],
   "source": [
    "import numpy as np\n",
    "import pandas as pd\n",
    "from scipy import stats\n",
    "\n",
    "zp = [35, 45, 190, 200, 40, 70, 54, 150, 120, 110]\n",
    "ks = [401, 574, 874, 919, 459, 739, 653, 902, 746, 832]\n",
    "\n",
    "zp_average = sum(zp) / len(zp)\n",
    "ks_average = sum(ks) / len(ks)\n",
    "\n",
    "temp = 0\n",
    "for i in range(len(zp)):\n",
    "    temp += (zp[i] - zp_average)*(ks[i] - ks_average)\n",
    "cov = temp / len(zp)\n",
    "print(f'Ковариация: {cov}')"
   ]
  },
  {
   "cell_type": "code",
   "execution_count": 26,
   "id": "a5b23694",
   "metadata": {},
   "outputs": [
    {
     "name": "stdout",
     "output_type": "stream",
     "text": [
      "Проверка с помощью функции cov. Ковариация: [[ 3494.64  9157.84]\n",
      " [ 9157.84 30468.89]]\n"
     ]
    }
   ],
   "source": [
    "print(f'Проверка с помощью функции cov. Ковариация: {np.cov(zp,ks,ddof = 0)}')"
   ]
  },
  {
   "cell_type": "code",
   "execution_count": 27,
   "id": "55471de6",
   "metadata": {},
   "outputs": [
    {
     "name": "stdout",
     "output_type": "stream",
     "text": [
      "Коэффициент корреляции Пирсона: 0.88749009\n"
     ]
    }
   ],
   "source": [
    "zp_std = np.std(zp, ddof = 0)\n",
    "ks_std = np.std(ks, ddof = 0)\n",
    "\n",
    "coef_pirson = cov / (zp_std * ks_std)\n",
    "print(f'Коэффициент корреляции Пирсона: {round(coef_pirson,8)}')"
   ]
  },
  {
   "cell_type": "code",
   "execution_count": 28,
   "id": "aa772608",
   "metadata": {},
   "outputs": [
    {
     "name": "stdout",
     "output_type": "stream",
     "text": [
      "Проверка с помощью бибилиотеки numpy. Коэффициент корреляции Пирсона: [[1.         0.88749009]\n",
      " [0.88749009 1.        ]]\n"
     ]
    }
   ],
   "source": [
    "coef_pirson_np = np.corrcoef(zp,ks)\n",
    "\n",
    "print(f'Проверка с помощью бибилиотеки numpy. Коэффициент корреляции Пирсона: {coef_pirson_np}')"
   ]
  },
  {
   "cell_type": "code",
   "execution_count": 29,
   "id": "cac7060d",
   "metadata": {},
   "outputs": [
    {
     "name": "stdout",
     "output_type": "stream",
     "text": [
      "Проверка с помощью бибилиотеки pandas. Коэффициент корреляции Пирсона: 0.88749009\n"
     ]
    }
   ],
   "source": [
    "data = pd.DataFrame({'zp':zp, 'ks':ks})\n",
    "coef_pirson_pd = data['zp'].corr(data['ks'])\n",
    "\n",
    "print(f'Проверка с помощью бибилиотеки pandas. Коэффициент корреляции Пирсона: {round(coef_pirson_pd,8)}')"
   ]
  },
  {
   "cell_type": "markdown",
   "id": "e979bad6",
   "metadata": {},
   "source": [
    "---"
   ]
  },
  {
   "cell_type": "markdown",
   "id": "de0794f7",
   "metadata": {},
   "source": [
    "**Задача 2**\n",
    "\n",
    "Измерены значения IQ выборки студентов,\n",
    "обучающихся в местных технических вузах:\n",
    "131, 125, 115, 122, 131, 115, 107, 99, 125, 111.\n",
    "Известно, что в генеральной совокупности IQ распределен нормально.\n",
    "Найдите доверительный интервал для математического ожидания с надежностью 0.95."
   ]
  },
  {
   "cell_type": "code",
   "execution_count": 30,
   "id": "950ed663",
   "metadata": {},
   "outputs": [
    {
     "name": "stdout",
     "output_type": "stream",
     "text": [
      "Доверительный интервал для математического ожидания с надежностью 0.95: [110.56; 125.64]\n"
     ]
    }
   ],
   "source": [
    "iq = [131, 125, 115, 122, 131, 115, 107, 99, 125, 111]\n",
    "\n",
    "iq_average = np.mean(iq)\n",
    "D = np.var(iq, ddof = 1)\n",
    "t = stats.t.ppf(0.975, (len(iq)-1))\n",
    "left = round(iq_average - t * np.sqrt(D / len(iq)),2)\n",
    "right = round(iq_average + t * np.sqrt(D / len(iq)),2)\n",
    "\n",
    "print(f'Доверительный интервал для математического ожидания с надежностью 0.95: [{left}; {right}]')"
   ]
  },
  {
   "cell_type": "markdown",
   "id": "ca401bcd",
   "metadata": {},
   "source": [
    "---"
   ]
  },
  {
   "cell_type": "markdown",
   "id": "6d509944",
   "metadata": {},
   "source": [
    "**Задача 3**\n",
    "\n",
    "Известно, что рост футболистов в сборной распределен нормально\n",
    "с дисперсией генеральной совокупности, равной 25 кв.см. Объем выборки равен 27,\n",
    "среднее выборочное составляет 174.2. Найдите доверительный интервал для\n",
    "математического\n",
    "ожидания с надежностью 0.95."
   ]
  },
  {
   "cell_type": "markdown",
   "id": "142ab719",
   "metadata": {},
   "source": [
    "Поскольку 𝜎 генеральной совокупности известна, используем формулу для z критерия с α/2 = 0,025:"
   ]
  },
  {
   "cell_type": "code",
   "execution_count": 31,
   "id": "0aae7706",
   "metadata": {},
   "outputs": [
    {
     "name": "stdout",
     "output_type": "stream",
     "text": [
      "Доверительный интервал для оценки математического ожидания α с надежностью 0.95,\n",
      "если выборочная средняя M = 174.2, а объем выборки n = 27: [164.7699456032361; 183.63005439676388]\n"
     ]
    }
   ],
   "source": [
    "sko, M, n, z = 25, 174.2, 27, 1.96\n",
    "\n",
    "left = M - z * sko/n**(1/2)\n",
    "right = M + z * sko/n**(1/2)\n",
    "print(f'Доверительный интервал для оценки математического ожидания α с надежностью 0.95,\\n' \n",
    "      f'если выборочная средняя M = 174.2, а объем выборки n = 27: [{left}; {right}]')"
   ]
  }
 ],
 "metadata": {
  "kernelspec": {
   "display_name": "Python 3 (ipykernel)",
   "language": "python",
   "name": "python3"
  },
  "language_info": {
   "codemirror_mode": {
    "name": "ipython",
    "version": 3
   },
   "file_extension": ".py",
   "mimetype": "text/x-python",
   "name": "python",
   "nbconvert_exporter": "python",
   "pygments_lexer": "ipython3",
   "version": "3.9.13"
  }
 },
 "nbformat": 4,
 "nbformat_minor": 5
}
